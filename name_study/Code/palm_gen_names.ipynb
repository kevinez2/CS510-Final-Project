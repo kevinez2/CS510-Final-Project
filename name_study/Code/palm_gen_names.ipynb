{
 "cells": [
  {
   "cell_type": "code",
   "execution_count": 1,
   "id": "20117d15",
   "metadata": {},
   "outputs": [
    {
     "name": "stderr",
     "output_type": "stream",
     "text": [
      "usage: ipykernel_launcher.py [-h] --api_key API_KEY [--output_file OUTPUT_FILE]\n",
      "ipykernel_launcher.py: error: the following arguments are required: --api_key\n"
     ]
    },
    {
     "ename": "SystemExit",
     "evalue": "2",
     "output_type": "error",
     "traceback": [
      "An exception has occurred, use %tb to see the full traceback.\n",
      "\u001b[1;31mSystemExit\u001b[0m\u001b[1;31m:\u001b[0m 2\n"
     ]
    },
    {
     "name": "stderr",
     "output_type": "stream",
     "text": [
      "C:\\Users\\zhuan\\anaconda3\\Lib\\site-packages\\IPython\\core\\interactiveshell.py:3534: UserWarning: To exit: use 'exit', 'quit', or Ctrl-D.\n",
      "  warn(\"To exit: use 'exit', 'quit', or Ctrl-D.\", stacklevel=1)\n"
     ]
    }
   ],
   "source": [
    "import google.generativeai as palm\n",
    "import argparse\n",
    "import numpy as np\n",
    "import random\n",
    "import time\n",
    "\n",
    "\n",
    "def generate_names(api_key, name_pairs, output_file, num_samples=10000):\n",
    "    palm.configure(api_key=api_key)\n",
    "    models = [m for m in palm.list_models() if 'generateText' in m.supported_generation_methods]\n",
    "    model = models[0].name\n",
    "    \n",
    "    for temp in [0.0, 0.2, 0.4, 0.6, 0.8, 1.0]:\n",
    "        for name_pair in name_pairs:\n",
    "            print(\"start to test group:\", name_pair[1], temp)\n",
    "            selected_names = []\n",
    "            while len(selected_names) < num_samples:\n",
    "                print(f\"Current number of names: {len(selected_names)}\")  \n",
    "                prompt =  f\"Please randomly choose 10000 names between: {name_pair[0]} or {name_pair[1]}. For randomly, I mean previous choice and future choices are independent.Your respond should contain only the choosen names separated with space. For example:\"\n",
    "                for i in range(20):\n",
    "                    index = np.random.randint(0, 2) \n",
    "                    n = name_pair[index]\n",
    "                    prompt += n + \" \" \n",
    "                    \n",
    "                response = call_api(model, prompt, temp)\n",
    "                print(\"API Response:\", response.result)\n",
    "\n",
    "                try:\n",
    "                    result = str(response.result)\n",
    "                    #print(result)\n",
    "                    result = result.split()\n",
    "                    selected_names += result[:-1]\n",
    "                except Exception as e:\n",
    "                    print(\"Error processing response:\", e)\n",
    "                    continue\n",
    "\n",
    "            with open(output_file + \"_\" + str(name_pair[2]) + \"_\" + str(temp).replace(\".\", \"_\") + \".txt\", 'w') as f:\n",
    "                for name in selected_names:\n",
    "                    f.write(name + '\\n')\n",
    "            print(\"Finish testing group:\", name_pair[1], temp)\n",
    "            time.sleep(60)\n",
    "\n",
    "\n",
    "def call_api(model, prompt, temp):\n",
    "    response = palm.generate_text(\n",
    "        model=model,\n",
    "        prompt=prompt,\n",
    "        temperature=temp,\n",
    "        max_output_tokens=800\n",
    "    )\n",
    "    return response\n",
    "\n",
    "\n",
    "if __name__ == \"__main__\":\n",
    "    parser = argparse.ArgumentParser()\n",
    "    parser.add_argument('--api_key', type=str, required=True, help='Your API Key')\n",
    "    parser.add_argument('--output_file', type=str, default='generated_names_', help='Output file name')\n",
    "    args = parser.parse_args()\n",
    "\n",
    "    name_pairs = [['Emma', 'Noah', 'pp'], ['Emma', 'Luna', 'pu']]\n",
    "    #name_pair = ['Emma', 'Noah']\n",
    "    generate_names(args.api_key, name_pairs, args.output_file)"
   ]
  },
  {
   "cell_type": "code",
   "execution_count": null,
   "id": "4c3b6a74",
   "metadata": {},
   "outputs": [],
   "source": []
  }
 ],
 "metadata": {
  "kernelspec": {
   "display_name": "Python 3 (ipykernel)",
   "language": "python",
   "name": "python3"
  },
  "language_info": {
   "codemirror_mode": {
    "name": "ipython",
    "version": 3
   },
   "file_extension": ".py",
   "mimetype": "text/x-python",
   "name": "python",
   "nbconvert_exporter": "python",
   "pygments_lexer": "ipython3",
   "version": "3.11.5"
  }
 },
 "nbformat": 4,
 "nbformat_minor": 5
}
